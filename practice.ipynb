{
 "cells": [
  {
   "cell_type": "markdown",
   "metadata": {},
   "source": [
    "# Python"
   ]
  },
  {
   "attachments": {},
   "cell_type": "markdown",
   "metadata": {},
   "source": [
    "### Ejercico de IMC"
   ]
  },
  {
   "cell_type": "code",
   "execution_count": 17,
   "metadata": {},
   "outputs": [
    {
     "name": "stdout",
     "output_type": "stream",
     "text": [
      "El IMC de la persona es de : 20.93248066627008\n"
     ]
    }
   ],
   "source": [
    "import math\n",
    "\n",
    "peso = float(input(\"Ingrese el peso de la persona\")) \n",
    "\n",
    "altura = float(input(\"Altura de la persona\"))\n",
    "\n",
    "IMC = peso/math.pow(altura,2)\n",
    "\n",
    "print(\"El IMC de la persona es de : \" + str(IMC))"
   ]
  },
  {
   "attachments": {},
   "cell_type": "markdown",
   "metadata": {},
   "source": [
    "### Ejercico  de formula general"
   ]
  },
  {
   "cell_type": "code",
   "execution_count": 2,
   "metadata": {},
   "outputs": [
    {
     "name": "stdout",
     "output_type": "stream",
     "text": [
      "Es una una raiz negativa, no se puede realizar\n"
     ]
    }
   ],
   "source": [
    "import math\n",
    "\n",
    "varA = float(input(\"Introduce el valor de a\"))\n",
    "varB = float(input(\"Introduce valor de b\"))\n",
    "varC = float(input(\"Introduce valor de c\"))\n",
    "\n",
    "operacionSqrt = (varB**2)-(4*varA*varC)\n",
    "\n",
    "if(operacionSqrt > 0):\n",
    "    x1 = float(-varB+math.sqrt(operacionSqrt)/2*varA)\n",
    "    x2 = float(-varB-math.sqrt(operacionSqrt)/2*varA)\n",
    "    print(\"La primer variable es x1 = \" + str(x1) + \"\\nLa segunda variable es x2 = \" + str(x2))\n",
    "else:\n",
    "    print(\"Es una una raiz negativa, no se puede realizar\")\n",
    "\n",
    "\n"
   ]
  }
 ],
 "metadata": {
  "kernelspec": {
   "display_name": "Python 3.10.6 64-bit (microsoft store)",
   "language": "python",
   "name": "python3"
  },
  "language_info": {
   "codemirror_mode": {
    "name": "ipython",
    "version": 3
   },
   "file_extension": ".py",
   "mimetype": "text/x-python",
   "name": "python",
   "nbconvert_exporter": "python",
   "pygments_lexer": "ipython3",
   "version": "3.10.9"
  },
  "orig_nbformat": 4,
  "vscode": {
   "interpreter": {
    "hash": "85aece5883f23cf93a903b25fd3f6a5833dab6da9d10cf403dbbc785be5e4181"
   }
  }
 },
 "nbformat": 4,
 "nbformat_minor": 2
}
